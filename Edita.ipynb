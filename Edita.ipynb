{
  "metadata": {
    "language_info": {
      "codemirror_mode": {
        "name": "python",
        "version": 3
      },
      "file_extension": ".py",
      "mimetype": "text/x-python",
      "name": "python",
      "nbconvert_exporter": "python",
      "pygments_lexer": "ipython3",
      "version": "3.8"
    },
    "kernelspec": {
      "name": "python",
      "display_name": "Pyolite",
      "language": "python"
    }
  },
  "nbformat_minor": 4,
  "nbformat": 4,
  "cells": [
    {
      "cell_type": "code",
      "source": "mydictionary = {\n    'word': 'Econometrics',\n    \"sentence\": 'If the implementation is easy to explain, it may be a good idea.',\n    'big_list': [\"python\", 3, \"anaconda\", 3.6, \"jupyter\", 10, \"lessons\", \"many\", 99],\n    \"empty_list\": []\n}",
      "metadata": {
        "trusted": true
      },
      "execution_count": 1,
      "outputs": []
    },
    {
      "cell_type": "code",
      "source": "if not mydictionary['word'].isupper():\n    mydictionary['word'] =\"Applied_\"+ mydictionary['word'].upper()",
      "metadata": {
        "trusted": true
      },
      "execution_count": 2,
      "outputs": []
    },
    {
      "cell_type": "code",
      "source": "mydictionary['sentence'].replace(\"good\", \"nice\")",
      "metadata": {
        "trusted": true
      },
      "execution_count": 9,
      "outputs": [
        {
          "execution_count": 9,
          "output_type": "execute_result",
          "data": {
            "text/plain": "'If the implementation is easy to explain, it may be a nice idea.'"
          },
          "metadata": {}
        }
      ]
    },
    {
      "cell_type": "code",
      "source": "for item in mydictionary['big_list']:\n    if type(item) == str:\n        print(item[0])",
      "metadata": {
        "trusted": true
      },
      "execution_count": 4,
      "outputs": [
        {
          "name": "stdout",
          "text": "p\na\nj\nl\nm\n",
          "output_type": "stream"
        }
      ]
    },
    {
      "cell_type": "code",
      "source": "sum = 0\nfor item in mydictionary['big_list']:\n    if type(item) == int:\n        sum+= item\nprint(sum)\nsum1 = 0\nmydictionary['big_list'].remove(mydictionary['big_list'][-1])\nmydictionary['big_list'].append(87)\nfor item in mydictionary['big_list']:\n    if type(item) == int:\n        sum1+= item\nprint(sum1)",
      "metadata": {
        "trusted": true
      },
      "execution_count": 5,
      "outputs": [
        {
          "name": "stdout",
          "text": "112\n100\n",
          "output_type": "stream"
        }
      ]
    },
    {
      "cell_type": "code",
      "source": "my_list = []\ncount_odd = 0\ncount_prime = 0\nfor i in range(10,40):\n    my_list.append(i)\n\nfor number in my_list:\n    if number % 2 == 0:\n        count_prime +=1\n    elif number % 2 == 1:\n        count_odd +=1\n\nprint(count_odd, count_prime)\n\n\nfor key in mydictionary:\n    print(mydictionary[key])",
      "metadata": {
        "trusted": true
      },
      "execution_count": 7,
      "outputs": [
        {
          "name": "stdout",
          "text": "15 15\nApplied_ECONOMETRICS\nIf the implementation is easy to explain, it may be a good idea.\n['python', 3, 'anaconda', 3.6, 'jupyter', 10, 'lessons', 'many', 87]\n[]\n",
          "output_type": "stream"
        }
      ]
    },
    {
      "cell_type": "code",
      "source": "",
      "metadata": {},
      "execution_count": null,
      "outputs": []
    }
  ]
}